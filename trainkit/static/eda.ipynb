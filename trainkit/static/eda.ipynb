{
 "cells": [
  {
   "cell_type": "markdown",
   "metadata": {},
   "source": [
    "# imports"
   ]
  },
  {
   "cell_type": "code",
   "execution_count": 1,
   "metadata": {
    "execution": {
     "iopub.execute_input": "2021-04-08T09:27:27.594606Z",
     "iopub.status.busy": "2021-04-08T09:27:27.593816Z",
     "iopub.status.idle": "2021-04-08T09:27:27.612039Z",
     "shell.execute_reply": "2021-04-08T09:27:27.611118Z",
     "shell.execute_reply.started": "2021-04-08T09:27:27.594409Z"
    }
   },
   "outputs": [],
   "source": [
    "import sys\n",
    "from importlib import reload\n",
    "from pathlib import Path\n",
    "\n",
    "# add project root path to sys.path\n",
    "_file_dir_path = str(Path.cwd().resolve())\n",
    "_proj_path = str(Path.cwd().resolve().parent)\n",
    "if _file_dir_path in sys.path:\n",
    "    sys.path.remove(_file_dir_path)\n",
    "sys.path.append(_proj_path)\n",
    "\n",
    "from src.utils import data, models, utils"
   ]
  },
  {
   "cell_type": "code",
   "execution_count": 2,
   "metadata": {
    "execution": {
     "iopub.execute_input": "2021-04-08T09:27:27.613424Z",
     "iopub.status.busy": "2021-04-08T09:27:27.613227Z",
     "iopub.status.idle": "2021-04-08T09:27:27.617688Z",
     "shell.execute_reply": "2021-04-08T09:27:27.616917Z",
     "shell.execute_reply.started": "2021-04-08T09:27:27.613401Z"
    }
   },
   "outputs": [],
   "source": [
    "proj_root_path = Path.cwd().parent\n",
    "\n",
    "data_path = Path(proj_root_path, 'data')\n",
    "data_raw_path = Path(data_path, 'raw')\n",
    "data_mod_path = Path(data_path, 'mod')\n",
    "insides_path = Path(proj_root_path, 'insides')\n",
    "\n",
    "models_path = Path(proj_root_path, 'runs', 'models')"
   ]
  },
  {
   "cell_type": "markdown",
   "metadata": {},
   "source": [
    "# main"
   ]
  },
  {
   "cell_type": "code",
   "execution_count": null,
   "metadata": {},
   "outputs": [],
   "source": []
  }
 ],
 "metadata": {
  "kernelspec": {
   "display_name": "pr_python",
   "language": "python",
   "name": "pr_python"
  },
  "language_info": {
   "codemirror_mode": {
    "name": "ipython",
    "version": 3
   },
   "file_extension": ".py",
   "mimetype": "text/x-python",
   "name": "python",
   "nbconvert_exporter": "python",
   "pygments_lexer": "ipython3",
   "version": "3.8.6"
  }
 },
 "nbformat": 4,
 "nbformat_minor": 4
}